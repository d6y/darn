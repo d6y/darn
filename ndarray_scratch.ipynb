{
 "cells": [
  {
   "cell_type": "code",
   "execution_count": 2,
   "metadata": {},
   "outputs": [],
   "source": [
    " extern crate ndarray;\n",
    " use ndarray::prelude::*;"
   ]
  },
  {
   "cell_type": "code",
   "execution_count": 15,
   "metadata": {},
   "outputs": [],
   "source": [
    "let fs = array![ \n",
    "    [String::from(\"Legs\"), String::from(\"Wings\"), String::from(\"Length\")], \n",
    "    [String::from(\"4\"),    String::from(\"0\"),     String::from(\"10\")]\n",
    "];"
   ]
  },
  {
   "cell_type": "code",
   "execution_count": 19,
   "metadata": {},
   "outputs": [
    {
     "name": "stdout",
     "output_type": "stream",
     "text": [
      "0: [\"Legs\", \"4\"], shape=[2], strides=[3], layout=Custom (0x0), const ndim=1\n",
      "1: [\"Wings\", \"0\"], shape=[2], strides=[3], layout=Custom (0x0), const ndim=1\n",
      "2: [\"Length\", \"10\"], shape=[2], strides=[3], layout=Custom (0x0), const ndim=1\n"
     ]
    },
    {
     "data": {
      "text/plain": [
       "()"
      ]
     },
     "execution_count": 19,
     "metadata": {},
     "output_type": "execute_result"
    }
   ],
   "source": [
    "let col_axis = Axis(1);\n",
    "\n",
    "for (i, col) in fs.axis_iter(col_axis).enumerate() {\n",
    "    println!(\"{}: {:?}\", i, col);\n",
    "}"
   ]
  },
  {
   "cell_type": "code",
   "execution_count": 21,
   "metadata": {},
   "outputs": [],
   "source": [
    "let attributes = array![\n",
    "            //location,size,pets\n",
    "            [\"good\", \"small\", \"yes\"],\n",
    "            [\"good\", \"big\", \"no\"],\n",
    "            [\"good\", \"big\", \"no\"],\n",
    "            [\"bad\", \"medium\", \"no\"],\n",
    "            [\"good\", \"medium\", \"only cats\"],\n",
    "            [\"good\", \"small\", \"only cats\"],\n",
    "            [\"bad\", \"medium\", \"yes\"],\n",
    "            [\"bad\", \"small\", \"yes\"],\n",
    "            [\"bad\", \"medium\", \"yes\"],\n",
    "            [\"bad\", \"small\", \"no\"],\n",
    "        ];\n",
    "\n",
    "let classes = array![\n",
    "            \"high\",\n",
    "            \"high\",\n",
    "            \"high\",\n",
    "            \"medium\",\n",
    "            \"medium\",\n",
    "            \"medium\",\n",
    "            \"medium\",\n",
    "            \"low\",\n",
    "            \"low\",\n",
    "            \"low\",\n",
    "        ];"
   ]
  },
  {
   "cell_type": "code",
   "execution_count": 24,
   "metadata": {},
   "outputs": [
    {
     "data": {
      "text/plain": [
       "[\"yes\", \"no\", \"no\", \"no\", \"only cats\", \"only cats\", \"yes\", \"yes\", \"yes\", \"no\"], shape=[10], strides=[3], layout=Custom (0x0), const ndim=1"
      ]
     },
     "execution_count": 24,
     "metadata": {},
     "output_type": "execute_result"
    }
   ],
   "source": [
    "attributes.slice(s![.., -1])"
   ]
  },
  {
   "cell_type": "code",
   "execution_count": 31,
   "metadata": {},
   "outputs": [
    {
     "data": {
      "text/plain": [
       "[[\"good\", \"small\"],\n",
       " [\"good\", \"big\"],\n",
       " [\"good\", \"big\"],\n",
       " [\"bad\", \"medium\"],\n",
       " [\"good\", \"medium\"],\n",
       " [\"good\", \"small\"],\n",
       " [\"bad\", \"medium\"],\n",
       " [\"bad\", \"small\"],\n",
       " [\"bad\", \"medium\"],\n",
       " [\"bad\", \"small\"]], shape=[10, 2], strides=[3, 1], layout=Custom (0x0), const ndim=2"
      ]
     },
     "execution_count": 31,
     "metadata": {},
     "output_type": "execute_result"
    }
   ],
   "source": [
    "attributes.slice(s![.., 0..-1])"
   ]
  },
  {
   "cell_type": "code",
   "execution_count": 35,
   "metadata": {},
   "outputs": [
    {
     "data": {
      "text/plain": [
       "[\"good\", \"small\", \"yes\"], shape=[3], strides=[1], layout=C | F (0x3), const ndim=1"
      ]
     },
     "execution_count": 35,
     "metadata": {},
     "output_type": "execute_result"
    }
   ],
   "source": [
    "attributes.slice(s![0, ..])"
   ]
  },
  {
   "cell_type": "code",
   "execution_count": 36,
   "metadata": {},
   "outputs": [
    {
     "data": {
      "text/plain": [
       "[\"good\", \"good\", \"good\", \"bad\", \"good\", \"good\", \"bad\", \"bad\", \"bad\", \"bad\"], shape=[10], strides=[3], layout=Custom (0x0), const ndim=1"
      ]
     },
     "execution_count": 36,
     "metadata": {},
     "output_type": "execute_result"
    }
   ],
   "source": [
    "attributes.slice(s![.., 0])"
   ]
  },
  {
   "cell_type": "code",
   "execution_count": null,
   "metadata": {},
   "outputs": [],
   "source": []
  },
  {
   "cell_type": "code",
   "execution_count": 30,
   "metadata": {},
   "outputs": [
    {
     "data": {
      "text/plain": [
       "[\"good\", \"small\", \"yes\"], shape=[3], strides=[1], layout=C | F (0x3), const ndim=1"
      ]
     },
     "execution_count": 30,
     "metadata": {},
     "output_type": "execute_result"
    }
   ],
   "source": []
  },
  {
   "cell_type": "code",
   "execution_count": null,
   "metadata": {},
   "outputs": [],
   "source": []
  },
  {
   "cell_type": "code",
   "execution_count": null,
   "metadata": {},
   "outputs": [],
   "source": []
  },
  {
   "cell_type": "code",
   "execution_count": null,
   "metadata": {},
   "outputs": [],
   "source": []
  },
  {
   "cell_type": "code",
   "execution_count": null,
   "metadata": {},
   "outputs": [],
   "source": []
  },
  {
   "cell_type": "code",
   "execution_count": null,
   "metadata": {},
   "outputs": [],
   "source": []
  },
  {
   "cell_type": "code",
   "execution_count": null,
   "metadata": {},
   "outputs": [],
   "source": []
  },
  {
   "cell_type": "code",
   "execution_count": null,
   "metadata": {},
   "outputs": [],
   "source": []
  }
 ],
 "metadata": {
  "kernelspec": {
   "display_name": "Rust",
   "language": "rust",
   "name": "rust"
  },
  "language_info": {
   "codemirror_mode": "rust",
   "file_extension": ".rs",
   "mimetype": "text/rust",
   "name": "Rust",
   "pygment_lexer": "rust",
   "version": ""
  }
 },
 "nbformat": 4,
 "nbformat_minor": 4
}
